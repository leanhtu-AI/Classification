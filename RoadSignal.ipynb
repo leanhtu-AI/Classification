{
  "cells": [
    {
      "cell_type": "markdown",
      "metadata": {
        "id": "sMBKDPbjs1Ws"
      },
      "source": [
        "## **1. Data Preparation**"
      ]
    },
    {
      "cell_type": "code",
      "execution_count": null,
      "metadata": {
        "id": "lwoAs62ws2lz"
      },
      "outputs": [],
      "source": [
        "# link_data = \"https://d17h27t6h515a5.cloudfront.net/topher/2017/February/5898cd6f_traffic-signs-data/traffic-signs-data.zip\"\n",
        "\n",
        "import tensorflow as tf"
      ]
    },
    {
      "cell_type": "code",
      "execution_count": 75,
      "metadata": {
        "colab": {
          "base_uri": "https://localhost:8080/",
          "height": 36
        },
        "id": "2dGsh9TcpKdi",
        "outputId": "69a271da-68cd-43d0-ab0b-4e3351fed37e"
      },
      "outputs": [
        {
          "data": {
            "application/vnd.google.colaboratory.intrinsic+json": {
              "type": "string"
            },
            "text/plain": [
              "'2.15.0'"
            ]
          },
          "execution_count": 75,
          "metadata": {},
          "output_type": "execute_result"
        }
      ],
      "source": [
        "tf.__version__"
      ]
    },
    {
      "cell_type": "code",
      "execution_count": 77,
      "metadata": {
        "colab": {
          "base_uri": "https://localhost:8080/"
        },
        "id": "yP5TWMRwrMc0",
        "outputId": "cfa14595-ece3-4a19-d94e-34395ea15115"
      },
      "outputs": [
        {
          "name": "stdout",
          "output_type": "stream",
          "text": [
            "Drive already mounted at /content/drive; to attempt to forcibly remount, call drive.mount(\"/content/drive\", force_remount=True).\n"
          ]
        }
      ],
      "source": [
        "from google.colab import drive\n",
        "drive.mount(\"/content/drive\")"
      ]
    },
    {
      "cell_type": "code",
      "execution_count": 78,
      "metadata": {
        "colab": {
          "base_uri": "https://localhost:8080/",
          "height": 36
        },
        "id": "hlODD6H0uR07",
        "outputId": "a4aed0e1-8245-4320-fd29-7d3d7398ff54"
      },
      "outputs": [
        {
          "data": {
            "application/vnd.google.colaboratory.intrinsic+json": {
              "type": "string"
            },
            "text/plain": [
              "'/content/drive/My Drive/ColabNotebooks/DL'"
            ]
          },
          "execution_count": 78,
          "metadata": {},
          "output_type": "execute_result"
        }
      ],
      "source": [
        "pwd"
      ]
    },
    {
      "cell_type": "code",
      "execution_count": 79,
      "metadata": {
        "colab": {
          "base_uri": "https://localhost:8080/"
        },
        "id": "xthk6cPKvrr0",
        "outputId": "e97e85c7-90b5-40a7-a31d-09d06338b98c"
      },
      "outputs": [
        {
          "name": "stdout",
          "output_type": "stream",
          "text": [
            "/content/drive/MyDrive/ColabNotebooks/DL\n"
          ]
        }
      ],
      "source": [
        "cd /content/drive/MyDrive/ColabNotebooks/DL"
      ]
    },
    {
      "cell_type": "code",
      "execution_count": 80,
      "metadata": {
        "colab": {
          "base_uri": "https://localhost:8080/",
          "height": 36
        },
        "id": "H376d2qAvwfE",
        "outputId": "8578c782-4a80-4380-992e-495d25019775"
      },
      "outputs": [
        {
          "data": {
            "application/vnd.google.colaboratory.intrinsic+json": {
              "type": "string"
            },
            "text/plain": [
              "'/content/drive/MyDrive/ColabNotebooks/DL'"
            ]
          },
          "execution_count": 80,
          "metadata": {},
          "output_type": "execute_result"
        }
      ],
      "source": [
        "pwd"
      ]
    },
    {
      "cell_type": "code",
      "execution_count": 81,
      "metadata": {
        "colab": {
          "base_uri": "https://localhost:8080/"
        },
        "id": "y8Y1fzOKvxfA",
        "outputId": "8e70ea59-669f-445a-89fc-eb71a31ca220"
      },
      "outputs": [
        {
          "name": "stdout",
          "output_type": "stream",
          "text": [
            "RoadSignal.ipynb  test.p  traffic-signs-data.zip  train.p  valid.p\n"
          ]
        }
      ],
      "source": [
        "ls"
      ]
    },
    {
      "cell_type": "code",
      "execution_count": 86,
      "metadata": {
        "id": "2vz_QpbByMr3"
      },
      "outputs": [],
      "source": [
        "data = \"./\""
      ]
    },
    {
      "cell_type": "code",
      "execution_count": 88,
      "metadata": {
        "id": "jOLB7Me4yhp7"
      },
      "outputs": [],
      "source": [
        "train_link = data + \"train.p\"\n",
        "valid_link = data + \"valid.p\"\n",
        "test_link = data + \"test.p\""
      ]
    },
    {
      "cell_type": "code",
      "execution_count": 89,
      "metadata": {
        "id": "cqxbWBZS1iP4"
      },
      "outputs": [],
      "source": [
        "import pickle"
      ]
    },
    {
      "cell_type": "code",
      "execution_count": 90,
      "metadata": {
        "id": "j544lvML1jW1"
      },
      "outputs": [],
      "source": [
        "with open(train_link, mode=\"rb\") as f:\n",
        "  train = pickle.load(f)"
      ]
    },
    {
      "cell_type": "code",
      "execution_count": 91,
      "metadata": {
        "id": "elFjSpFb1rzh"
      },
      "outputs": [],
      "source": [
        "with open(valid_link, mode=\"rb\") as f:\n",
        "  valid = pickle.load(f)"
      ]
    },
    {
      "cell_type": "code",
      "execution_count": 92,
      "metadata": {
        "id": "RuA3ah-d11my"
      },
      "outputs": [],
      "source": [
        "with open(test_link, mode=\"rb\") as f:\n",
        "  test = pickle.load(f)"
      ]
    },
    {
      "cell_type": "code",
      "execution_count": 93,
      "metadata": {
        "colab": {
          "base_uri": "https://localhost:8080/"
        },
        "id": "p2wxR96OA_5O",
        "outputId": "fb620c9c-f47b-4d09-8760-8b7376b752fb"
      },
      "outputs": [
        {
          "data": {
            "text/plain": [
              "{'coords': array([[  6,   5,  21,  20],\n",
              "        [  6,   6,  22,  22],\n",
              "        [  5,   6,  22,  23],\n",
              "        ...,\n",
              "        [ 17,  15, 178, 155],\n",
              "        [ 17,  15, 183, 160],\n",
              "        [ 20,  18, 211, 184]], dtype=uint8),\n",
              " 'labels': array([41, 41, 41, ..., 25, 25, 25], dtype=uint8),\n",
              " 'features': array([[[[ 28,  25,  24],\n",
              "          [ 27,  24,  23],\n",
              "          [ 27,  24,  22],\n",
              "          ...,\n",
              "          [ 32,  28,  24],\n",
              "          [ 31,  27,  25],\n",
              "          [ 31,  27,  26]],\n",
              " \n",
              "         [[ 29,  26,  25],\n",
              "          [ 27,  25,  23],\n",
              "          [ 27,  25,  23],\n",
              "          ...,\n",
              "          [ 32,  28,  24],\n",
              "          [ 31,  27,  24],\n",
              "          [ 30,  27,  25]],\n",
              " \n",
              "         [[ 28,  26,  26],\n",
              "          [ 27,  25,  23],\n",
              "          [ 26,  25,  23],\n",
              "          ...,\n",
              "          [ 32,  28,  24],\n",
              "          [ 31,  27,  24],\n",
              "          [ 30,  27,  25]],\n",
              " \n",
              "         ...,\n",
              " \n",
              "         [[ 27,  24,  23],\n",
              "          [ 28,  25,  24],\n",
              "          [ 30,  25,  24],\n",
              "          ...,\n",
              "          [ 27,  24,  23],\n",
              "          [ 28,  24,  22],\n",
              "          [ 29,  25,  22]],\n",
              " \n",
              "         [[ 28,  23,  23],\n",
              "          [ 29,  24,  24],\n",
              "          [ 31,  25,  24],\n",
              "          ...,\n",
              "          [ 27,  24,  23],\n",
              "          [ 28,  24,  22],\n",
              "          [ 28,  24,  21]],\n",
              " \n",
              "         [[ 29,  23,  23],\n",
              "          [ 30,  24,  24],\n",
              "          [ 32,  24,  23],\n",
              "          ...,\n",
              "          [ 27,  24,  22],\n",
              "          [ 27,  23,  21],\n",
              "          [ 26,  22,  20]]],\n",
              " \n",
              " \n",
              "        [[[ 28,  24,  24],\n",
              "          [ 26,  23,  23],\n",
              "          [ 27,  24,  24],\n",
              "          ...,\n",
              "          [ 31,  28,  26],\n",
              "          [ 31,  28,  27],\n",
              "          [ 32,  28,  27]],\n",
              " \n",
              "         [[ 27,  24,  24],\n",
              "          [ 27,  24,  24],\n",
              "          [ 28,  25,  24],\n",
              "          ...,\n",
              "          [ 31,  27,  25],\n",
              "          [ 31,  27,  26],\n",
              "          [ 33,  29,  27]],\n",
              " \n",
              "         [[ 26,  24,  24],\n",
              "          [ 26,  24,  24],\n",
              "          [ 27,  24,  23],\n",
              "          ...,\n",
              "          [ 31,  26,  25],\n",
              "          [ 31,  27,  26],\n",
              "          [ 33,  29,  27]],\n",
              " \n",
              "         ...,\n",
              " \n",
              "         [[ 28,  25,  23],\n",
              "          [ 30,  27,  24],\n",
              "          [ 30,  27,  24],\n",
              "          ...,\n",
              "          [ 27,  24,  22],\n",
              "          [ 27,  24,  22],\n",
              "          [ 28,  24,  22]],\n",
              " \n",
              "         [[ 27,  24,  22],\n",
              "          [ 29,  26,  23],\n",
              "          [ 31,  26,  24],\n",
              "          ...,\n",
              "          [ 26,  23,  21],\n",
              "          [ 27,  24,  22],\n",
              "          [ 28,  25,  23]],\n",
              " \n",
              "         [[ 28,  24,  23],\n",
              "          [ 28,  24,  22],\n",
              "          [ 29,  24,  22],\n",
              "          ...,\n",
              "          [ 27,  23,  22],\n",
              "          [ 27,  24,  23],\n",
              "          [ 29,  26,  25]]],\n",
              " \n",
              " \n",
              "        [[[ 29,  25,  25],\n",
              "          [ 29,  26,  26],\n",
              "          [ 30,  27,  27],\n",
              "          ...,\n",
              "          [ 31,  27,  24],\n",
              "          [ 31,  28,  25],\n",
              "          [ 32,  29,  27]],\n",
              " \n",
              "         [[ 27,  24,  24],\n",
              "          [ 27,  25,  25],\n",
              "          [ 28,  26,  26],\n",
              "          ...,\n",
              "          [ 31,  27,  23],\n",
              "          [ 32,  28,  25],\n",
              "          [ 33,  30,  27]],\n",
              " \n",
              "         [[ 27,  24,  24],\n",
              "          [ 28,  26,  26],\n",
              "          [ 29,  27,  27],\n",
              "          ...,\n",
              "          [ 32,  28,  24],\n",
              "          [ 32,  28,  24],\n",
              "          [ 33,  29,  26]],\n",
              " \n",
              "         ...,\n",
              " \n",
              "         [[ 28,  26,  22],\n",
              "          [ 29,  26,  21],\n",
              "          [ 31,  26,  22],\n",
              "          ...,\n",
              "          [ 29,  24,  21],\n",
              "          [ 28,  23,  20],\n",
              "          [ 28,  23,  22]],\n",
              " \n",
              "         [[ 27,  26,  23],\n",
              "          [ 28,  25,  21],\n",
              "          [ 30,  25,  22],\n",
              "          ...,\n",
              "          [ 28,  23,  21],\n",
              "          [ 27,  22,  20],\n",
              "          [ 28,  24,  22]],\n",
              " \n",
              "         [[ 29,  26,  23],\n",
              "          [ 28,  24,  21],\n",
              "          [ 29,  24,  21],\n",
              "          ...,\n",
              "          [ 29,  25,  23],\n",
              "          [ 28,  24,  22],\n",
              "          [ 30,  26,  24]]],\n",
              " \n",
              " \n",
              "        ...,\n",
              " \n",
              " \n",
              "        [[[ 51,  67,  86],\n",
              "          [ 55,  59,  71],\n",
              "          [ 75,  81,  92],\n",
              "          ...,\n",
              "          [250, 248, 243],\n",
              "          [207, 212, 233],\n",
              "          [121, 116, 140]],\n",
              " \n",
              "         [[ 35,  42,  49],\n",
              "          [ 48,  47,  51],\n",
              "          [ 91,  96, 113],\n",
              "          ...,\n",
              "          [220, 224, 226],\n",
              "          [169, 177, 187],\n",
              "          [ 84,  87, 100]],\n",
              " \n",
              "         [[ 27,  26,  29],\n",
              "          [ 41,  38,  39],\n",
              "          [ 55,  64,  78],\n",
              "          ...,\n",
              "          [122, 143, 160],\n",
              "          [ 97, 104, 129],\n",
              "          [ 59,  59,  56]],\n",
              " \n",
              "         ...,\n",
              " \n",
              "         [[ 24,  23,  27],\n",
              "          [ 21,  20,  27],\n",
              "          [ 20,  19,  22],\n",
              "          ...,\n",
              "          [ 76,  79,  83],\n",
              "          [ 54,  64,  77],\n",
              "          [ 45,  51,  65]],\n",
              " \n",
              "         [[ 31,  31,  33],\n",
              "          [ 22,  23,  29],\n",
              "          [ 20,  18,  21],\n",
              "          ...,\n",
              "          [ 66,  67,  84],\n",
              "          [ 56,  65,  74],\n",
              "          [ 45,  55,  73]],\n",
              " \n",
              "         [[ 28,  28,  30],\n",
              "          [ 22,  21,  25],\n",
              "          [ 19,  18,  19],\n",
              "          ...,\n",
              "          [ 67,  63,  76],\n",
              "          [ 39,  45,  55],\n",
              "          [ 32,  37,  47]]],\n",
              " \n",
              " \n",
              "        [[[ 82,  78,  96],\n",
              "          [120, 126, 148],\n",
              "          [112, 125, 146],\n",
              "          ...,\n",
              "          [185, 182, 177],\n",
              "          [204, 210, 215],\n",
              "          [132, 114, 121]],\n",
              " \n",
              "         [[ 74,  77,  93],\n",
              "          [171, 174, 185],\n",
              "          [137, 164, 184],\n",
              "          ...,\n",
              "          [180, 181, 187],\n",
              "          [198, 200, 213],\n",
              "          [ 79,  85,  85]],\n",
              " \n",
              "         [[ 54,  50,  56],\n",
              "          [100, 106, 118],\n",
              "          [117, 132, 158],\n",
              "          ...,\n",
              "          [157, 153, 160],\n",
              "          [176, 183, 199],\n",
              "          [ 88,  80,  82]],\n",
              " \n",
              "         ...,\n",
              " \n",
              "         [[ 22,  21,  22],\n",
              "          [ 20,  19,  19],\n",
              "          [ 18,  16,  19],\n",
              "          ...,\n",
              "          [ 50,  50,  60],\n",
              "          [ 37,  43,  52],\n",
              "          [ 30,  41,  59]],\n",
              " \n",
              "         [[ 18,  16,  18],\n",
              "          [ 19,  17,  18],\n",
              "          [ 19,  18,  21],\n",
              "          ...,\n",
              "          [ 36,  44,  60],\n",
              "          [ 33,  36,  48],\n",
              "          [ 36,  43,  61]],\n",
              " \n",
              "         [[ 18,  17,  20],\n",
              "          [ 21,  20,  23],\n",
              "          [ 24,  22,  25],\n",
              "          ...,\n",
              "          [ 32,  34,  41],\n",
              "          [ 45,  42,  48],\n",
              "          [ 41,  43,  52]]],\n",
              " \n",
              " \n",
              "        [[[ 69,  79,  96],\n",
              "          [ 24,  26,  28],\n",
              "          [ 40,  42,  45],\n",
              "          ...,\n",
              "          [225, 234, 237],\n",
              "          [151, 161, 166],\n",
              "          [164, 162, 169]],\n",
              " \n",
              "         [[ 99, 110, 125],\n",
              "          [ 36,  41,  47],\n",
              "          [ 63,  56,  62],\n",
              "          ...,\n",
              "          [197, 216, 224],\n",
              "          [154, 163, 169],\n",
              "          [164, 163, 159]],\n",
              " \n",
              "         [[104, 107, 113],\n",
              "          [ 34,  37,  40],\n",
              "          [ 72,  70,  77],\n",
              "          ...,\n",
              "          [223, 237, 235],\n",
              "          [181, 192, 198],\n",
              "          [166, 167, 159]],\n",
              " \n",
              "         ...,\n",
              " \n",
              "         [[ 21,  20,  23],\n",
              "          [ 23,  24,  30],\n",
              "          [ 19,  20,  24],\n",
              "          ...,\n",
              "          [ 45,  47,  54],\n",
              "          [ 58,  62,  70],\n",
              "          [ 58,  70,  82]],\n",
              " \n",
              "         [[ 18,  17,  21],\n",
              "          [ 19,  19,  24],\n",
              "          [ 18,  18,  23],\n",
              "          ...,\n",
              "          [ 36,  36,  40],\n",
              "          [ 58,  59,  70],\n",
              "          [ 61,  69,  81]],\n",
              " \n",
              "         [[ 17,  16,  19],\n",
              "          [ 16,  15,  18],\n",
              "          [ 16,  15,  18],\n",
              "          ...,\n",
              "          [ 40,  40,  44],\n",
              "          [ 57,  62,  73],\n",
              "          [ 57,  68,  80]]]], dtype=uint8),\n",
              " 'sizes': array([[ 26,  25],\n",
              "        [ 27,  27],\n",
              "        [ 27,  28],\n",
              "        ...,\n",
              "        [194, 169],\n",
              "        [201, 175],\n",
              "        [230, 201]], dtype=uint8)}"
            ]
          },
          "execution_count": 93,
          "metadata": {},
          "output_type": "execute_result"
        }
      ],
      "source": [
        "train"
      ]
    },
    {
      "cell_type": "code",
      "execution_count": 94,
      "metadata": {
        "id": "FTNx8nPiBAwH"
      },
      "outputs": [],
      "source": [
        "# bộ train sử dụng cho việc huấn luyện\n",
        "trainX = train[\"features\"]\n",
        "trainY = train[\"labels\"]"
      ]
    },
    {
      "cell_type": "code",
      "execution_count": 95,
      "metadata": {
        "colab": {
          "base_uri": "https://localhost:8080/"
        },
        "id": "a5n4ZRGaBObK",
        "outputId": "ac82b675-4ae6-4d5d-aa71-fa0dfaa2f475"
      },
      "outputs": [
        {
          "data": {
            "text/plain": [
              "(34799, 32, 32, 3)"
            ]
          },
          "execution_count": 95,
          "metadata": {},
          "output_type": "execute_result"
        }
      ],
      "source": [
        "trainX.shape"
      ]
    },
    {
      "cell_type": "code",
      "execution_count": 96,
      "metadata": {
        "colab": {
          "base_uri": "https://localhost:8080/"
        },
        "id": "JXvS5-yrBplT",
        "outputId": "3064b7a4-fcd5-432d-9215-60ea30c2a061"
      },
      "outputs": [
        {
          "data": {
            "text/plain": [
              "(32, 32, 3)"
            ]
          },
          "execution_count": 96,
          "metadata": {},
          "output_type": "execute_result"
        }
      ],
      "source": [
        "trainX[0].shape"
      ]
    },
    {
      "cell_type": "code",
      "execution_count": 97,
      "metadata": {
        "id": "fceMFsxuFEJE"
      },
      "outputs": [],
      "source": [
        "import matplotlib.pyplot as plt"
      ]
    },
    {
      "cell_type": "code",
      "execution_count": 98,
      "metadata": {
        "colab": {
          "base_uri": "https://localhost:8080/",
          "height": 447
        },
        "id": "WZJ9sOkOFG79",
        "outputId": "a116f46e-1467-4544-eb8d-63df3d5000e5"
      },
      "outputs": [
        {
          "data": {
            "text/plain": [
              "<matplotlib.image.AxesImage at 0x7cbe040b3460>"
            ]
          },
          "execution_count": 98,
          "metadata": {},
          "output_type": "execute_result"
        },
        {
          "data": {
            "image/png": "[encoded data removed]",
            "text/plain": [
              "<Figure size 640x480 with 1 Axes>"
            ]
          },
          "metadata": {},
          "output_type": "display_data"
        }
      ],
      "source": [
        "plt.imshow(trainX[0])"
      ]
    },
    {
      "cell_type": "code",
      "execution_count": 99,
      "metadata": {
        "colab": {
          "base_uri": "https://localhost:8080/",
          "height": 447
        },
        "id": "CcRe7Iu0FJfM",
        "outputId": "471db462-0a33-4bc2-e777-77f9a6eec5ef"
      },
      "outputs": [
        {
          "data": {
            "text/plain": [
              "<matplotlib.image.AxesImage at 0x7cbe058696c0>"
            ]
          },
          "execution_count": 99,
          "metadata": {},
          "output_type": "execute_result"
        },
        {
          "data": {
            "image/png": "[encoded data removed]",
            "text/plain": [
              "<Figure size 640x480 with 1 Axes>"
            ]
          },
          "metadata": {},
          "output_type": "display_data"
        }
      ],
      "source": [
        "plt.imshow(trainX[1])"
      ]
    },
    {
      "cell_type": "code",
      "execution_count": 100,
      "metadata": {
        "colab": {
          "base_uri": "https://localhost:8080/",
          "height": 447
        },
        "id": "NgRj5Uq3FMKI",
        "outputId": "85e3895e-c320-4e2a-b47d-c252d15f8e15"
      },
      "outputs": [
        {
          "data": {
            "text/plain": [
              "<matplotlib.image.AxesImage at 0x7cbe040b15d0>"
            ]
          },
          "execution_count": 100,
          "metadata": {},
          "output_type": "execute_result"
        },
        {
          "data": {
            "image/png": "[encoded data removed]",
            "text/plain": [
              "<Figure size 640x480 with 1 Axes>"
            ]
          },
          "metadata": {},
          "output_type": "display_data"
        }
      ],
      "source": [
        "plt.imshow(trainX[10])"
      ]
    },
    {
      "cell_type": "code",
      "execution_count": 101,
      "metadata": {
        "colab": {
          "base_uri": "https://localhost:8080/",
          "height": 447
        },
        "id": "Q-eqaOOWFOB-",
        "outputId": "10cd6df1-03a9-49ce-e543-d8e6a6f0c2c1"
      },
      "outputs": [
        {
          "data": {
            "text/plain": [
              "<matplotlib.image.AxesImage at 0x7cbe058b4160>"
            ]
          },
          "execution_count": 101,
          "metadata": {},
          "output_type": "execute_result"
        },
        {
          "data": {
            "image/png": "[encoded data removed]",
            "text/plain": [
              "<Figure size 640x480 with 1 Axes>"
            ]
          },
          "metadata": {},
          "output_type": "display_data"
        }
      ],
      "source": [
        "plt.imshow(trainX[50])"
      ]
    },
    {
      "cell_type": "code",
      "execution_count": 102,
      "metadata": {
        "colab": {
          "base_uri": "https://localhost:8080/"
        },
        "id": "rMMD2gpxFPV0",
        "outputId": "e765c781-c688-4b16-af3e-5006d7a4134e"
      },
      "outputs": [
        {
          "data": {
            "text/plain": [
              "41"
            ]
          },
          "execution_count": 102,
          "metadata": {},
          "output_type": "execute_result"
        }
      ],
      "source": [
        "trainY[50]"
      ]
    },
    {
      "cell_type": "code",
      "execution_count": 103,
      "metadata": {
        "id": "XD9O8nexGhnD"
      },
      "outputs": [],
      "source": [
        "classNames = {0: 'Speed limit (20km/h)',\n",
        " 1: 'Speed limit (30km/h)',\n",
        " 2: 'Speed limit (50km/h)',\n",
        " 3: 'Speed limit (60km/h)',\n",
        " 4: 'Speed limit (70km/h)',\n",
        " 5: 'Speed limit (80km/h)',\n",
        " 6: 'End of speed limit (80km/h)',\n",
        " 7: 'Speed limit (100km/h)',\n",
        " 8: 'Speed limit (120km/h)',\n",
        " 9: 'No passing',\n",
        " 10: 'No passing for vehicles over 3.5 metric tons',\n",
        " 11: 'Right-of-way at the next intersection',\n",
        " 12: 'Priority road',\n",
        " 13: 'Yield',\n",
        " 14: 'Stop',\n",
        " 15: 'No vehicles',\n",
        " 16: 'Vehicles over 3.5 metric tons prohibited',\n",
        " 17: 'No entry',\n",
        " 18: 'General caution',\n",
        " 19: 'Dangerous curve to the left',\n",
        " 20: 'Dangerous curve to the right',\n",
        " 21: 'Double curve',\n",
        " 22: 'Bumpy road',\n",
        " 23: 'Slippery road',\n",
        " 24: 'Road narrows on the right',\n",
        " 25: 'Road work',\n",
        " 26: 'Traffic signals',\n",
        " 27: 'Pedestrians',\n",
        " 28: 'Children crossing',\n",
        " 29: 'Bicycles crossing',\n",
        " 30: 'Beware of ice/snow',\n",
        " 31: 'Wild animals crossing',\n",
        " 32: 'End of all speed and passing limits',\n",
        " 33: 'Turn right ahead',\n",
        " 34: 'Turn left ahead',\n",
        " 35: 'Ahead only',\n",
        " 36: 'Go straight or right',\n",
        " 37: 'Go straight or left',\n",
        " 38: 'Keep right',\n",
        " 39: 'Keep left',\n",
        " 40: 'Roundabout mandatory',\n",
        " 41: 'End of no passing',\n",
        " 42: 'End of no passing by vehicles over 3.5 metric tons'}\n"
      ]
    },
    {
      "cell_type": "code",
      "execution_count": 104,
      "metadata": {
        "colab": {
          "base_uri": "https://localhost:8080/",
          "height": 36
        },
        "id": "A7XGtnNyGolw",
        "outputId": "07866641-8580-49ad-ecbf-9dc16bed9a5f"
      },
      "outputs": [
        {
          "data": {
            "application/vnd.google.colaboratory.intrinsic+json": {
              "type": "string"
            },
            "text/plain": [
              "'End of no passing'"
            ]
          },
          "execution_count": 104,
          "metadata": {},
          "output_type": "execute_result"
        }
      ],
      "source": [
        "classNames[trainY[50]]"
      ]
    },
    {
      "cell_type": "code",
      "execution_count": 105,
      "metadata": {
        "id": "XuZEusvTGriY"
      },
      "outputs": [],
      "source": [
        "from sklearn.utils import shuffle"
      ]
    },
    {
      "cell_type": "code",
      "execution_count": 106,
      "metadata": {
        "id": "iiP_6eQeH4A0"
      },
      "outputs": [],
      "source": [
        "# Tại sao phải tráo bộ dữ liệu hiện tại, bởi vì các ảnh tương đồng nhau đang được liền nhau, cho nên để tăng tính ngẫu nhiên của dữ liệu ta phải tráo chúng lên.\n",
        "trainX, trainY = shuffle(trainX, trainY)"
      ]
    },
    {
      "cell_type": "code",
      "execution_count": 107,
      "metadata": {
        "colab": {
          "base_uri": "https://localhost:8080/",
          "height": 447
        },
        "id": "oVW0U_DBH8ob",
        "outputId": "69a03360-ffc4-4564-982a-b3bbbb9faff9"
      },
      "outputs": [
        {
          "data": {
            "text/plain": [
              "<matplotlib.image.AxesImage at 0x7cbe05756a70>"
            ]
          },
          "execution_count": 107,
          "metadata": {},
          "output_type": "execute_result"
        },
        {
          "data": {
            "image/png": "[encoded data removed]",
            "text/plain": [
              "<Figure size 640x480 with 1 Axes>"
            ]
          },
          "metadata": {},
          "output_type": "display_data"
        }
      ],
      "source": [
        "plt.imshow(trainX[0])"
      ]
    },
    {
      "cell_type": "code",
      "execution_count": 108,
      "metadata": {
        "colab": {
          "base_uri": "https://localhost:8080/",
          "height": 36
        },
        "id": "K3YVW6rHH-MZ",
        "outputId": "1ab8ce53-1bd1-4716-8ad0-d856a6c48351"
      },
      "outputs": [
        {
          "data": {
            "application/vnd.google.colaboratory.intrinsic+json": {
              "type": "string"
            },
            "text/plain": [
              "'Ahead only'"
            ]
          },
          "execution_count": 108,
          "metadata": {},
          "output_type": "execute_result"
        }
      ],
      "source": [
        "classNames[trainY[0]]"
      ]
    },
    {
      "cell_type": "code",
      "execution_count": 109,
      "metadata": {
        "id": "ZT4txTgqIzh0"
      },
      "outputs": [],
      "source": [
        "# bộ valid sử dụng để ktra bộ train trong khi traning\n",
        "validX = valid[\"features\"]\n",
        "validY = valid[\"labels\"]"
      ]
    },
    {
      "cell_type": "code",
      "execution_count": 110,
      "metadata": {
        "id": "KQ3AaCzKI95i"
      },
      "outputs": [],
      "source": [
        "# bộ test ktra bộ train sau khi training\n",
        "testX = test[\"features\"]\n",
        "testY = test[\"labels\"]"
      ]
    },
    {
      "cell_type": "markdown",
      "metadata": {
        "id": "FT4zwQEgufjQ"
      },
      "source": [
        "## **2. Normalization data**"
      ]
    },
    {
      "cell_type": "code",
      "execution_count": 111,
      "metadata": {
        "id": "ISIIN4RwJBfw"
      },
      "outputs": [],
      "source": [
        "trainX = trainX.astype(\"float\") / 255.0\n",
        "validX = validX.astype(\"float\") / 255.0\n",
        "testX = testX.astype(\"float\") / 255.0\n"
      ]
    },
    {
      "cell_type": "code",
      "execution_count": 112,
      "metadata": {
        "colab": {
          "base_uri": "https://localhost:8080/"
        },
        "id": "6CKuPi4JMsYv",
        "outputId": "71aab405-7af4-4a4e-d48f-b6a27a28718a"
      },
      "outputs": [
        {
          "data": {
            "text/plain": [
              "array([[[1.        , 1.        , 0.88627451],\n",
              "        [0.88235294, 0.81176471, 0.60784314],\n",
              "        [0.69803922, 0.55294118, 0.40392157],\n",
              "        ...,\n",
              "        [0.24705882, 0.19607843, 0.19607843],\n",
              "        [0.23137255, 0.19215686, 0.19215686],\n",
              "        [0.23137255, 0.19607843, 0.19607843]],\n",
              "\n",
              "       [[1.        , 1.        , 0.88627451],\n",
              "        [0.90196078, 0.83137255, 0.62352941],\n",
              "        [0.71764706, 0.56470588, 0.41568627],\n",
              "        ...,\n",
              "        [0.23921569, 0.19607843, 0.19215686],\n",
              "        [0.22745098, 0.19215686, 0.19215686],\n",
              "        [0.21960784, 0.18823529, 0.19215686]],\n",
              "\n",
              "       [[1.        , 1.        , 0.87843137],\n",
              "        [0.92941176, 0.84705882, 0.63137255],\n",
              "        [0.74117647, 0.57254902, 0.41176471],\n",
              "        ...,\n",
              "        [0.23921569, 0.19215686, 0.19607843],\n",
              "        [0.22352941, 0.18823529, 0.19215686],\n",
              "        [0.21960784, 0.18823529, 0.19607843]],\n",
              "\n",
              "       ...,\n",
              "\n",
              "       [[1.        , 1.        , 0.8627451 ],\n",
              "        [1.        , 0.90588235, 0.65490196],\n",
              "        [0.78823529, 0.59215686, 0.42352941],\n",
              "        ...,\n",
              "        [0.15686275, 0.1372549 , 0.1372549 ],\n",
              "        [0.16078431, 0.14901961, 0.15294118],\n",
              "        [0.16470588, 0.15294118, 0.16470588]],\n",
              "\n",
              "       [[1.        , 1.        , 0.86666667],\n",
              "        [1.        , 0.90980392, 0.66666667],\n",
              "        [0.79215686, 0.59607843, 0.4745098 ],\n",
              "        ...,\n",
              "        [0.18039216, 0.14901961, 0.14117647],\n",
              "        [0.17647059, 0.14509804, 0.1372549 ],\n",
              "        [0.16470588, 0.1372549 , 0.13333333]],\n",
              "\n",
              "       [[1.        , 1.        , 0.86666667],\n",
              "        [1.        , 0.90980392, 0.67058824],\n",
              "        [0.80784314, 0.6       , 0.51764706],\n",
              "        ...,\n",
              "        [0.20784314, 0.17254902, 0.15686275],\n",
              "        [0.2       , 0.16470588, 0.14901961],\n",
              "        [0.18039216, 0.15294118, 0.13333333]]])"
            ]
          },
          "execution_count": 112,
          "metadata": {},
          "output_type": "execute_result"
        }
      ],
      "source": [
        "# 255\n",
        "# 1\n",
        "trainX[0]"
      ]
    },
    {
      "cell_type": "code",
      "execution_count": 113,
      "metadata": {
        "id": "YGMmZAIkNDJd"
      },
      "outputs": [],
      "source": [
        "from sklearn.preprocessing import LabelBinarizer"
      ]
    },
    {
      "cell_type": "code",
      "execution_count": 114,
      "metadata": {
        "id": "CS21eeBaOlZa"
      },
      "outputs": [],
      "source": [
        "lb = LabelBinarizer()"
      ]
    },
    {
      "cell_type": "code",
      "execution_count": 115,
      "metadata": {
        "id": "QQWIbmfGOor0"
      },
      "outputs": [],
      "source": [
        "trainY = lb.fit_transform(trainY)"
      ]
    },
    {
      "cell_type": "code",
      "execution_count": 116,
      "metadata": {
        "id": "ru_5t4uFOugQ"
      },
      "outputs": [],
      "source": [
        "validY = lb.fit_transform(validY)"
      ]
    },
    {
      "cell_type": "code",
      "execution_count": 117,
      "metadata": {
        "colab": {
          "base_uri": "https://localhost:8080/"
        },
        "id": "jojPHuTmQMAX",
        "outputId": "c45353d3-6c34-429c-e14d-cb0dbc73a61c"
      },
      "outputs": [
        {
          "data": {
            "text/plain": [
              "array([41, 41, 41, ..., 25, 25, 25], dtype=uint8)"
            ]
          },
          "execution_count": 117,
          "metadata": {},
          "output_type": "execute_result"
        }
      ],
      "source": [
        "valid[\"labels\"]"
      ]
    },
    {
      "cell_type": "code",
      "execution_count": 118,
      "metadata": {
        "colab": {
          "base_uri": "https://localhost:8080/"
        },
        "id": "MylcYb6RQzAD",
        "outputId": "ac9b6b8d-7bc0-42db-fdce-11e4f963488a"
      },
      "outputs": [
        {
          "data": {
            "text/plain": [
              "array([0, 0, 0, 0, 0, 0, 0, 0, 0, 0, 0, 0, 0, 0, 0, 0, 0, 0, 0, 0, 0, 0,\n",
              "       0, 0, 0, 0, 0, 0, 0, 0, 0, 0, 0, 0, 0, 0, 0, 0, 0, 0, 0, 1, 0])"
            ]
          },
          "execution_count": 118,
          "metadata": {},
          "output_type": "execute_result"
        }
      ],
      "source": [
        "validY[0]"
      ]
    },
    {
      "cell_type": "markdown",
      "metadata": {
        "id": "NvN_0T0XuSDN"
      },
      "source": [
        "## **3. Building model**"
      ]
    },
    {
      "cell_type": "code",
      "execution_count": 119,
      "metadata": {
        "id": "z7uMWti4Q58X"
      },
      "outputs": [],
      "source": [
        "from tensorflow.keras.models import Model\n",
        "from tensorflow.keras.models import Sequential\n",
        "from tensorflow.keras.layers import BatchNormalization\n",
        "from tensorflow.keras.layers import AveragePooling2D\n",
        "from tensorflow.keras.layers import MaxPooling2D\n",
        "from tensorflow.keras.layers import Conv2D\n",
        "from tensorflow.keras.layers import Activation\n",
        "from tensorflow.keras.layers import Dropout\n",
        "from tensorflow.keras.layers import Flatten\n",
        "from tensorflow.keras.layers import Input\n",
        "from tensorflow.keras.layers import Dense\n",
        "from tensorflow.keras.layers import concatenate\n",
        "from tensorflow.keras.preprocessing.image import ImageDataGenerator\n",
        "from tensorflow.keras.optimizers import SGD"
      ]
    },
    {
      "cell_type": "code",
      "execution_count": 120,
      "metadata": {
        "id": "ThQ-6nsISoaJ"
      },
      "outputs": [],
      "source": [
        "model = Sequential()"
      ]
    },
    {
      "cell_type": "code",
      "execution_count": 121,
      "metadata": {
        "id": "d2a2WftbSqDI"
      },
      "outputs": [],
      "source": [
        "width = 32\n",
        "height = 32\n",
        "classes = 43"
      ]
    },
    {
      "cell_type": "code",
      "execution_count": 122,
      "metadata": {
        "id": "69hnpaWrVu0t"
      },
      "outputs": [],
      "source": [
        "shape = (width, height, 3)"
      ]
    },
    {
      "cell_type": "code",
      "execution_count": 123,
      "metadata": {
        "id": "z6-QRL0-hhlX"
      },
      "outputs": [],
      "source": [
        "model.add(Conv2D(32, (3, 3), padding=\"same\", input_shape=shape))\n",
        "model.add(Activation(\"relu\"))\n",
        "model.add(BatchNormalization())\n",
        "model.add(Conv2D(32, (3, 3), padding=\"same\"))\n",
        "model.add(Activation(\"relu\"))\n",
        "model.add(BatchNormalization())\n",
        "model.add(MaxPooling2D(pool_size=(2,2)))\n",
        "model.add(Conv2D(64, (3, 3), padding=\"same\"))\n",
        "model.add(Activation(\"relu\"))\n",
        "model.add(BatchNormalization())\n",
        "model.add(Conv2D(64, (3, 3), padding=\"same\"))\n",
        "model.add(Activation(\"relu\"))\n",
        "model.add(BatchNormalization())\n",
        "model.add(MaxPooling2D(pool_size=(2,2)))\n",
        "model.add(Flatten())\n",
        "model.add(Dense(512))\n",
        "model.add(Activation(\"relu\"))\n",
        "model.add(BatchNormalization())\n",
        "model.add(Dense(classes))\n",
        "model.add(Activation(\"softmax\"))"
      ]
    },
    {
      "cell_type": "code",
      "execution_count": 124,
      "metadata": {
        "colab": {
          "base_uri": "https://localhost:8080/"
        },
        "id": "Ao4F3BYJ18vY",
        "outputId": "3b7b2133-4d72-4b13-cc3e-d1770f8a382c"
      },
      "outputs": [
        {
          "name": "stdout",
          "output_type": "stream",
          "text": [
            "Model: \"sequential_1\"\n",
            "_________________________________________________________________\n",
            " Layer (type)                Output Shape              Param #   \n",
            "=================================================================\n",
            " conv2d_4 (Conv2D)           (None, 32, 32, 32)        896       \n",
            "                                                                 \n",
            " activation_6 (Activation)   (None, 32, 32, 32)        0         \n",
            "                                                                 \n",
            " batch_normalization_5 (Bat  (None, 32, 32, 32)        128       \n",
            " chNormalization)                                                \n",
            "                                                                 \n",
            " conv2d_5 (Conv2D)           (None, 32, 32, 32)        9248      \n",
            "                                                                 \n",
            " activation_7 (Activation)   (None, 32, 32, 32)        0         \n",
            "                                                                 \n",
            " batch_normalization_6 (Bat  (None, 32, 32, 32)        128       \n",
            " chNormalization)                                                \n",
            "                                                                 \n",
            " max_pooling2d_2 (MaxPoolin  (None, 16, 16, 32)        0         \n",
            " g2D)                                                            \n",
            "                                                                 \n",
            " conv2d_6 (Conv2D)           (None, 16, 16, 64)        18496     \n",
            "                                                                 \n",
            " activation_8 (Activation)   (None, 16, 16, 64)        0         \n",
            "                                                                 \n",
            " batch_normalization_7 (Bat  (None, 16, 16, 64)        256       \n",
            " chNormalization)                                                \n",
            "                                                                 \n",
            " conv2d_7 (Conv2D)           (None, 16, 16, 64)        36928     \n",
            "                                                                 \n",
            " activation_9 (Activation)   (None, 16, 16, 64)        0         \n",
            "                                                                 \n",
            " batch_normalization_8 (Bat  (None, 16, 16, 64)        256       \n",
            " chNormalization)                                                \n",
            "                                                                 \n",
            " max_pooling2d_3 (MaxPoolin  (None, 8, 8, 64)          0         \n",
            " g2D)                                                            \n",
            "                                                                 \n",
            " flatten_1 (Flatten)         (None, 4096)              0         \n",
            "                                                                 \n",
            " dense_2 (Dense)             (None, 512)               2097664   \n",
            "                                                                 \n",
            " activation_10 (Activation)  (None, 512)               0         \n",
            "                                                                 \n",
            " batch_normalization_9 (Bat  (None, 512)               2048      \n",
            " chNormalization)                                                \n",
            "                                                                 \n",
            " dense_3 (Dense)             (None, 43)                22059     \n",
            "                                                                 \n",
            " activation_11 (Activation)  (None, 43)                0         \n",
            "                                                                 \n",
            "=================================================================\n",
            "Total params: 2188107 (8.35 MB)\n",
            "Trainable params: 2186699 (8.34 MB)\n",
            "Non-trainable params: 1408 (5.50 KB)\n",
            "_________________________________________________________________\n"
          ]
        }
      ],
      "source": [
        "model.summary()"
      ]
    },
    {
      "cell_type": "code",
      "execution_count": 125,
      "metadata": {
        "id": "i6ySDdNttX7Y"
      },
      "outputs": [],
      "source": [
        "aug = ImageDataGenerator(rotation_range=0.18, zoom_range=0.15,\n",
        "                         width_shift_range=0.2, height_shift_range=0.2, horizontal_flip=True)"
      ]
    },
    {
      "cell_type": "code",
      "execution_count": 126,
      "metadata": {
        "id": "Z_nsLIhj1fhv"
      },
      "outputs": [],
      "source": [
        "learning_rate = 0.01"
      ]
    },
    {
      "cell_type": "code",
      "execution_count": 127,
      "metadata": {
        "id": "GPni35pK3JpV"
      },
      "outputs": [],
      "source": [
        "epochs = 10\n",
        "batch_size = 64"
      ]
    },
    {
      "cell_type": "code",
      "execution_count": 128,
      "metadata": {
        "id": "vqVdh5Dl4Ztm"
      },
      "outputs": [],
      "source": [
        "opt = SGD(learning_rate=learning_rate, momentum=0.9)"
      ]
    },
    {
      "cell_type": "code",
      "execution_count": 129,
      "metadata": {
        "id": "Afb3-sRs4j_p"
      },
      "outputs": [],
      "source": [
        "model.compile(optimizer=opt, loss=\"categorical_crossentropy\", metrics=[\"accuracy\"])"
      ]
    },
    {
      "cell_type": "code",
      "execution_count": 130,
      "metadata": {
        "colab": {
          "base_uri": "https://localhost:8080/"
        },
        "id": "6agWcdkB8Lj9",
        "outputId": "1799a786-ed5d-462e-f181-d54945712e95"
      },
      "outputs": [
        {
          "name": "stdout",
          "output_type": "stream",
          "text": [
            "Start training\n",
            "Epoch 1/10\n"
          ]
        },
        {
          "name": "stderr",
          "output_type": "stream",
          "text": [
            "<ipython-input-130-1da1854fd154>:2: UserWarning: `Model.fit_generator` is deprecated and will be removed in a future version. Please use `Model.fit`, which supports generators.\n",
            "  H = model.fit_generator(aug.flow(trainX, trainY, batch_size=batch_size),\n"
          ]
        },
        {
          "name": "stdout",
          "output_type": "stream",
          "text": [
            "543/543 [==============================] - 244s 446ms/step - loss: 2.1079 - accuracy: 0.3935 - val_loss: 1.9247 - val_accuracy: 0.4653\n",
            "Epoch 2/10\n",
            "543/543 [==============================] - 232s 427ms/step - loss: 0.8403 - accuracy: 0.7236 - val_loss: 1.1194 - val_accuracy: 0.6764\n",
            "Epoch 3/10\n",
            "543/543 [==============================] - 230s 423ms/step - loss: 0.4093 - accuracy: 0.8644 - val_loss: 0.8947 - val_accuracy: 0.7395\n",
            "Epoch 4/10\n",
            "543/543 [==============================] - 234s 431ms/step - loss: 0.2365 - accuracy: 0.9234 - val_loss: 0.8188 - val_accuracy: 0.7782\n",
            "Epoch 5/10\n",
            "543/543 [==============================] - 235s 433ms/step - loss: 0.1679 - accuracy: 0.9448 - val_loss: 0.6386 - val_accuracy: 0.8356\n",
            "Epoch 6/10\n",
            "543/543 [==============================] - 236s 434ms/step - loss: 0.1222 - accuracy: 0.9619 - val_loss: 0.5873 - val_accuracy: 0.8517\n",
            "Epoch 7/10\n",
            "543/543 [==============================] - 235s 432ms/step - loss: 0.0999 - accuracy: 0.9681 - val_loss: 0.6136 - val_accuracy: 0.8478\n",
            "Epoch 8/10\n",
            "543/543 [==============================] - 238s 438ms/step - loss: 0.0820 - accuracy: 0.9738 - val_loss: 0.6042 - val_accuracy: 0.8472\n",
            "Epoch 9/10\n",
            "543/543 [==============================] - 237s 437ms/step - loss: 0.0642 - accuracy: 0.9794 - val_loss: 0.5560 - val_accuracy: 0.8662\n",
            "Epoch 10/10\n",
            "543/543 [==============================] - 232s 428ms/step - loss: 0.0565 - accuracy: 0.9829 - val_loss: 0.7164 - val_accuracy: 0.8340\n"
          ]
        }
      ],
      "source": [
        "print(\"Start training\")\n",
        "H = model.fit_generator(aug.flow(trainX, trainY, batch_size=batch_size),\n",
        "                        validation_data=(validX, validY),\n",
        "                        steps_per_epoch=trainX.shape[0]//batch_size, epochs=epochs, verbose=1)"
      ]
    },
    {
      "cell_type": "markdown",
      "metadata": {
        "id": "zxII0Wdnuj3g"
      },
      "source": [
        "## **4. Save and load model for more inference**"
      ]
    },
    {
      "cell_type": "code",
      "execution_count": 134,
      "metadata": {
        "id": "miQzzxi3rf2d"
      },
      "outputs": [],
      "source": [
        "model.save('/content/drive/MyDrive/ColabNotebooks/DL/model1')"
      ]
    },
    {
      "cell_type": "code",
      "execution_count": 135,
      "metadata": {
        "id": "p31aw7raA6Hi"
      },
      "outputs": [],
      "source": [
        "saved_model = tf.keras.models.load_model(\"/content/drive/MyDrive/ColabNotebooks/DL/model1\")"
      ]
    },
    {
      "cell_type": "code",
      "execution_count": 136,
      "metadata": {
        "colab": {
          "base_uri": "https://localhost:8080/"
        },
        "id": "5pazWUfgA9GD",
        "outputId": "6180aa9b-32e3-4b18-8293-18d4a2eb3ccb"
      },
      "outputs": [
        {
          "name": "stdout",
          "output_type": "stream",
          "text": [
            "1/1 [==============================] - 0s 182ms/step\n"
          ]
        }
      ],
      "source": [
        "result = saved_model.predict(testX[100:101])"
      ]
    },
    {
      "cell_type": "code",
      "execution_count": 137,
      "metadata": {
        "colab": {
          "base_uri": "https://localhost:8080/"
        },
        "id": "bk2woz54BKba",
        "outputId": "82135f67-c3c4-423a-d75c-aad1426912e1"
      },
      "outputs": [
        {
          "data": {
            "text/plain": [
              "array([[5.32949125e-05, 9.93159413e-01, 1.12347732e-06, 1.75811834e-07,\n",
              "        6.38201300e-06, 4.99459493e-05, 1.87758516e-07, 5.94726391e-03,\n",
              "        2.09808364e-04, 2.06237000e-05, 2.83894622e-07, 2.27476867e-05,\n",
              "        2.07640642e-08, 3.26215991e-06, 1.94615225e-07, 5.60664773e-07,\n",
              "        3.06618516e-04, 2.08453717e-08, 9.25260579e-08, 2.62503659e-06,\n",
              "        3.07029921e-08, 6.74522411e-08, 1.56827866e-07, 4.39025371e-07,\n",
              "        2.09130434e-07, 6.00512521e-06, 7.29416030e-08, 8.77187887e-08,\n",
              "        7.33566558e-05, 1.48330130e-08, 3.70378052e-06, 4.37849340e-10,\n",
              "        1.01856735e-07, 1.16966795e-07, 4.31639592e-06, 1.84015221e-06,\n",
              "        5.06194192e-06, 9.91089109e-05, 7.15345413e-06, 6.75991956e-08,\n",
              "        9.68826352e-10, 2.20678359e-07, 1.32806463e-05]], dtype=float32)"
            ]
          },
          "execution_count": 137,
          "metadata": {},
          "output_type": "execute_result"
        }
      ],
      "source": [
        "result"
      ]
    },
    {
      "cell_type": "code",
      "execution_count": 138,
      "metadata": {
        "id": "NtU4V59QBLNy"
      },
      "outputs": [],
      "source": [
        "import numpy as np"
      ]
    },
    {
      "cell_type": "code",
      "execution_count": 139,
      "metadata": {
        "id": "N867j-CvBQ-A"
      },
      "outputs": [],
      "source": [
        "final = np.argmax(result)"
      ]
    },
    {
      "cell_type": "code",
      "execution_count": 140,
      "metadata": {
        "id": "bdSaJ5CUBTS5"
      },
      "outputs": [],
      "source": [
        "final = classNames[final]"
      ]
    },
    {
      "cell_type": "code",
      "execution_count": 141,
      "metadata": {
        "colab": {
          "base_uri": "https://localhost:8080/",
          "height": 36
        },
        "id": "kueRYFTfBV5H",
        "outputId": "1233b208-2bc2-4a51-b7f1-a8f993348d59"
      },
      "outputs": [
        {
          "data": {
            "application/vnd.google.colaboratory.intrinsic+json": {
              "type": "string"
            },
            "text/plain": [
              "'Speed limit (30km/h)'"
            ]
          },
          "execution_count": 141,
          "metadata": {},
          "output_type": "execute_result"
        }
      ],
      "source": [
        "final"
      ]
    },
    {
      "cell_type": "code",
      "execution_count": 142,
      "metadata": {
        "colab": {
          "base_uri": "https://localhost:8080/",
          "height": 447
        },
        "id": "XBv8yxDwBWnu",
        "outputId": "62d749e5-b6d0-41c3-97aa-2072e9945ebe"
      },
      "outputs": [
        {
          "data": {
            "text/plain": [
              "<matplotlib.image.AxesImage at 0x7cbe13e081c0>"
            ]
          },
          "execution_count": 142,
          "metadata": {},
          "output_type": "execute_result"
        },
        {
          "data": {
            "image/png": "[encoded data removed]",
            "text/plain": [
              "<Figure size 640x480 with 1 Axes>"
            ]
          },
          "metadata": {},
          "output_type": "display_data"
        }
      ],
      "source": [
        "plt.imshow(test[\"features\"][100])"
      ]
    }
  ],
  "metadata": {
    "accelerator": "GPU",
    "colab": {
      "gpuType": "T4",
      "provenance": []
    },
    "kernelspec": {
      "display_name": "Python 3",
      "name": "python3"
    }
  },
  "nbformat": 4,
  "nbformat_minor": 0
}
